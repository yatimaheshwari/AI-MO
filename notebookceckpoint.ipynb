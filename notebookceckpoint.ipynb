{
 "cells": [
  {
   "cell_type": "markdown",
   "metadata": {},
   "source": [
    "Import necessary library "
   ]
  },
  {
   "cell_type": "code",
   "execution_count": 2,
   "metadata": {},
   "outputs": [],
   "source": [
    "import pandas as pd\n",
    "import json"
   ]
  },
  {
   "cell_type": "markdown",
   "metadata": {},
   "source": [
    "# prompt: use pretrained model gpt4 and train my data set\n",
    "You cannot use a pretrained model like GPT4 and train your own dataset in Google Colab or Jupyter Notebooks. You need to use a cloud-based platform like Google Cloud AI Platform or Amazon SageMaker to train your own dataset with GPT4.\n",
    "\n",
    "Here are the steps to train your own dataset with GPT4 on Google Cloud AI Platform.\n",
    "**Create a Cloud AI Platform project.**\n",
    "2. **Enable the Cloud AI Platform API.**\n",
    "3. **Create a dataset.**\n",
    "4. **Create a training pipeline.**\n",
    "5. **Train your model.**\n",
    "\n",
    "For more information, please refer to the following documentation:\n",
    "\n",
    "* [Train a text classification model with the gpt-4 model](https://cloud.google.com/ai-platform-unified/docs/training/train-text-classification-gpt-4)\n",
    "* [Google Cloud AI Platform documentation](https://cloud.google.com/ai-platform-unified/docs)\n",
    "\n",
    "Here are the steps to train your own dataset with GPT4 on Amazon SageMaker:\n",
    "\n",
    "1. **Create an Amazon SageMaker project.**\n",
    "2. **Enable the Amazon SageMaker API.**\n",
    "3. **Create a dataset.**\n",
    "4. **Create a training job.**\n",
    "5. **Train your model.**\n",
    "\n",
    "For more information, please refer to the following documentation:\n",
    "\n",
    "* [Train a text classification model with the gpt-4 model](https://docs.aws.amazon.com/sagemaker/latest/dg/text-classification-gpt4.html)\n",
    "* [Amazon SageMaker documentation](https://docs.aws.amazon.com/sagemaker/latest/dg/whatis.html)\n",
    "\n",
    "\n"
   ]
  },
  {
   "cell_type": "markdown",
   "metadata": {},
   "source": [
    "Create dataframe"
   ]
  },
  {
   "cell_type": "code",
   "execution_count": 8,
   "metadata": {},
   "outputs": [
    {
     "data": {
      "text/html": [
       "<div>\n",
       "<style scoped>\n",
       "    .dataframe tbody tr th:only-of-type {\n",
       "        vertical-align: middle;\n",
       "    }\n",
       "\n",
       "    .dataframe tbody tr th {\n",
       "        vertical-align: top;\n",
       "    }\n",
       "\n",
       "    .dataframe thead th {\n",
       "        text-align: right;\n",
       "    }\n",
       "</style>\n",
       "<table border=\"1\" class=\"dataframe\">\n",
       "  <thead>\n",
       "    <tr style=\"text-align: right;\">\n",
       "      <th></th>\n",
       "      <th>id</th>\n",
       "      <th>problem</th>\n",
       "      <th>answer</th>\n",
       "    </tr>\n",
       "  </thead>\n",
       "  <tbody>\n",
       "    <tr>\n",
       "      <th>0</th>\n",
       "      <td>1</td>\n",
       "      <td>What is the sum of the squares of the first 10...</td>\n",
       "      <td>The sum of the squares of the first n positive...</td>\n",
       "    </tr>\n",
       "    <tr>\n",
       "      <th>1</th>\n",
       "      <td>2</td>\n",
       "      <td>How many positive integers less than 1000 are ...</td>\n",
       "      <td>The least common multiple of 3 and 5 is 15. We...</td>\n",
       "    </tr>\n",
       "    <tr>\n",
       "      <th>2</th>\n",
       "      <td>3</td>\n",
       "      <td>The product of two numbers is 180, and their s...</td>\n",
       "      <td>Let the numbers be x and y such that xy = 180 ...</td>\n",
       "    </tr>\n",
       "  </tbody>\n",
       "</table>\n",
       "</div>"
      ],
      "text/plain": [
       "  id                                            problem   \n",
       "0  1  What is the sum of the squares of the first 10...  \\\n",
       "1  2  How many positive integers less than 1000 are ...   \n",
       "2  3  The product of two numbers is 180, and their s...   \n",
       "\n",
       "                                              answer  \n",
       "0  The sum of the squares of the first n positive...  \n",
       "1  The least common multiple of 3 and 5 is 15. We...  \n",
       "2  Let the numbers be x and y such that xy = 180 ...  "
      ]
     },
     "execution_count": 8,
     "metadata": {},
     "output_type": "execute_result"
    }
   ],
   "source": [
    "# Load the JSON data from file\n",
    "with open('package.json', 'r') as file:\n",
    "    data = json.load(file)\n",
    "\n",
    "# print(data['problems'])\n",
    "# Create a DataFrame\n",
    "df = pd.DataFrame(data['problems'])\n",
    "\n",
    "# Display the DataFrame\n",
    "df.head(3)\n"
   ]
  },
  {
   "cell_type": "code",
   "execution_count": null,
   "metadata": {},
   "outputs": [],
   "source": []
  }
 ],
 "metadata": {
  "kernelspec": {
   "display_name": "Python 3",
   "language": "python",
   "name": "python3"
  },
  "language_info": {
   "codemirror_mode": {
    "name": "ipython",
    "version": 3
   },
   "file_extension": ".py",
   "mimetype": "text/x-python",
   "name": "python",
   "nbconvert_exporter": "python",
   "pygments_lexer": "ipython3",
   "version": "3.11.7"
  }
 },
 "nbformat": 4,
 "nbformat_minor": 2
}
